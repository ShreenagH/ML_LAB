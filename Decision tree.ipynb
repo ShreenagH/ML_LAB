{
 "cells": [
  {
   "cell_type": "code",
   "execution_count": 1,
   "metadata": {},
   "outputs": [],
   "source": [
    "import pandas as pd\n",
    "import numpy as np\n",
    "import matplotlib.pyplot as plt"
   ]
  },
  {
   "cell_type": "code",
   "execution_count": 2,
   "metadata": {},
   "outputs": [
    {
     "data": {
      "text/html": [
       "<div>\n",
       "<style scoped>\n",
       "    .dataframe tbody tr th:only-of-type {\n",
       "        vertical-align: middle;\n",
       "    }\n",
       "\n",
       "    .dataframe tbody tr th {\n",
       "        vertical-align: top;\n",
       "    }\n",
       "\n",
       "    .dataframe thead th {\n",
       "        text-align: right;\n",
       "    }\n",
       "</style>\n",
       "<table border=\"1\" class=\"dataframe\">\n",
       "  <thead>\n",
       "    <tr style=\"text-align: right;\">\n",
       "      <th></th>\n",
       "      <th>animal_name</th>\n",
       "      <th>hair</th>\n",
       "      <th>feathers</th>\n",
       "      <th>eggs</th>\n",
       "      <th>milk</th>\n",
       "      <th>airborne</th>\n",
       "      <th>aquatic</th>\n",
       "      <th>predator</th>\n",
       "      <th>toothed</th>\n",
       "      <th>backbone</th>\n",
       "      <th>breathes</th>\n",
       "      <th>venomous</th>\n",
       "      <th>fins</th>\n",
       "      <th>legs</th>\n",
       "      <th>tail</th>\n",
       "      <th>domestic</th>\n",
       "      <th>catsize</th>\n",
       "      <th>class_type</th>\n",
       "    </tr>\n",
       "  </thead>\n",
       "  <tbody>\n",
       "    <tr>\n",
       "      <th>0</th>\n",
       "      <td>aardvark</td>\n",
       "      <td>1</td>\n",
       "      <td>0</td>\n",
       "      <td>0</td>\n",
       "      <td>1</td>\n",
       "      <td>0</td>\n",
       "      <td>0</td>\n",
       "      <td>1</td>\n",
       "      <td>1</td>\n",
       "      <td>1</td>\n",
       "      <td>1</td>\n",
       "      <td>0</td>\n",
       "      <td>0</td>\n",
       "      <td>4</td>\n",
       "      <td>0</td>\n",
       "      <td>0</td>\n",
       "      <td>1</td>\n",
       "      <td>1</td>\n",
       "    </tr>\n",
       "    <tr>\n",
       "      <th>1</th>\n",
       "      <td>antelope</td>\n",
       "      <td>1</td>\n",
       "      <td>0</td>\n",
       "      <td>0</td>\n",
       "      <td>1</td>\n",
       "      <td>0</td>\n",
       "      <td>0</td>\n",
       "      <td>0</td>\n",
       "      <td>1</td>\n",
       "      <td>1</td>\n",
       "      <td>1</td>\n",
       "      <td>0</td>\n",
       "      <td>0</td>\n",
       "      <td>4</td>\n",
       "      <td>1</td>\n",
       "      <td>0</td>\n",
       "      <td>1</td>\n",
       "      <td>1</td>\n",
       "    </tr>\n",
       "    <tr>\n",
       "      <th>2</th>\n",
       "      <td>bass</td>\n",
       "      <td>0</td>\n",
       "      <td>0</td>\n",
       "      <td>1</td>\n",
       "      <td>0</td>\n",
       "      <td>0</td>\n",
       "      <td>1</td>\n",
       "      <td>1</td>\n",
       "      <td>1</td>\n",
       "      <td>1</td>\n",
       "      <td>0</td>\n",
       "      <td>0</td>\n",
       "      <td>1</td>\n",
       "      <td>0</td>\n",
       "      <td>1</td>\n",
       "      <td>0</td>\n",
       "      <td>0</td>\n",
       "      <td>4</td>\n",
       "    </tr>\n",
       "    <tr>\n",
       "      <th>3</th>\n",
       "      <td>bear</td>\n",
       "      <td>1</td>\n",
       "      <td>0</td>\n",
       "      <td>0</td>\n",
       "      <td>1</td>\n",
       "      <td>0</td>\n",
       "      <td>0</td>\n",
       "      <td>1</td>\n",
       "      <td>1</td>\n",
       "      <td>1</td>\n",
       "      <td>1</td>\n",
       "      <td>0</td>\n",
       "      <td>0</td>\n",
       "      <td>4</td>\n",
       "      <td>0</td>\n",
       "      <td>0</td>\n",
       "      <td>1</td>\n",
       "      <td>1</td>\n",
       "    </tr>\n",
       "    <tr>\n",
       "      <th>4</th>\n",
       "      <td>boar</td>\n",
       "      <td>1</td>\n",
       "      <td>0</td>\n",
       "      <td>0</td>\n",
       "      <td>1</td>\n",
       "      <td>0</td>\n",
       "      <td>0</td>\n",
       "      <td>1</td>\n",
       "      <td>1</td>\n",
       "      <td>1</td>\n",
       "      <td>1</td>\n",
       "      <td>0</td>\n",
       "      <td>0</td>\n",
       "      <td>4</td>\n",
       "      <td>1</td>\n",
       "      <td>0</td>\n",
       "      <td>1</td>\n",
       "      <td>1</td>\n",
       "    </tr>\n",
       "  </tbody>\n",
       "</table>\n",
       "</div>"
      ],
      "text/plain": [
       "  animal_name  hair  feathers  eggs  milk  airborne  aquatic  predator  \\\n",
       "0    aardvark     1         0     0     1         0        0         1   \n",
       "1    antelope     1         0     0     1         0        0         0   \n",
       "2        bass     0         0     1     0         0        1         1   \n",
       "3        bear     1         0     0     1         0        0         1   \n",
       "4        boar     1         0     0     1         0        0         1   \n",
       "\n",
       "   toothed  backbone  breathes  venomous  fins  legs  tail  domestic  catsize  \\\n",
       "0        1         1         1         0     0     4     0         0        1   \n",
       "1        1         1         1         0     0     4     1         0        1   \n",
       "2        1         1         0         0     1     0     1         0        0   \n",
       "3        1         1         1         0     0     4     0         0        1   \n",
       "4        1         1         1         0     0     4     1         0        1   \n",
       "\n",
       "   class_type  \n",
       "0           1  \n",
       "1           1  \n",
       "2           4  \n",
       "3           1  \n",
       "4           1  "
      ]
     },
     "execution_count": 2,
     "metadata": {},
     "output_type": "execute_result"
    }
   ],
   "source": [
    "df= pd.read_csv(\"/home/root1/18is148/zoo.csv\")\n",
    "df.head()"
   ]
  },
  {
   "cell_type": "code",
   "execution_count": 3,
   "metadata": {},
   "outputs": [
    {
     "name": "stdout",
     "output_type": "stream",
     "text": [
      "     hair  feathers  eggs  milk  airborne  aquatic  predator  toothed  \\\n",
      "0       1         0     0     1         0        0         1        1   \n",
      "1       1         0     0     1         0        0         0        1   \n",
      "2       0         0     1     0         0        1         1        1   \n",
      "3       1         0     0     1         0        0         1        1   \n",
      "4       1         0     0     1         0        0         1        1   \n",
      "5       1         0     0     1         0        0         0        1   \n",
      "6       1         0     0     1         0        0         0        1   \n",
      "7       0         0     1     0         0        1         0        1   \n",
      "8       0         0     1     0         0        1         1        1   \n",
      "9       1         0     0     1         0        0         0        1   \n",
      "10      1         0     0     1         0        0         1        1   \n",
      "11      0         1     1     0         1        0         0        0   \n",
      "12      0         0     1     0         0        1         1        1   \n",
      "13      0         0     1     0         0        0         1        0   \n",
      "14      0         0     1     0         0        1         1        0   \n",
      "15      0         0     1     0         0        1         1        0   \n",
      "16      0         1     1     0         1        0         1        0   \n",
      "17      1         0     0     1         0        0         0        1   \n",
      "18      0         0     1     0         0        1         1        1   \n",
      "19      0         0     0     1         0        1         1        1   \n",
      "20      0         1     1     0         1        0         0        0   \n",
      "21      0         1     1     0         1        1         0        0   \n",
      "22      1         0     0     1         0        0         0        1   \n",
      "23      0         1     1     0         1        0         0        0   \n",
      "24      0         0     1     0         0        0         0        0   \n",
      "25      0         0     1     0         0        1         1        1   \n",
      "26      0         0     1     0         0        1         1        1   \n",
      "27      1         0     0     1         1        0         0        1   \n",
      "28      1         0     0     1         0        0         0        1   \n",
      "29      1         0     0     1         0        0         1        1   \n",
      "..    ...       ...   ...   ...       ...      ...       ...      ...   \n",
      "71      0         1     1     0         0        0         1        0   \n",
      "72      0         0     0     0         0        0         1        0   \n",
      "73      0         0     1     0         0        1         0        1   \n",
      "74      1         0     0     1         0        1         1        1   \n",
      "75      1         0     0     1         0        1         1        1   \n",
      "76      0         0     0     0         0        1         1        1   \n",
      "77      0         0     1     0         0        1         1        0   \n",
      "78      0         1     1     0         1        1         1        0   \n",
      "79      0         1     1     0         1        1         1        0   \n",
      "80      0         0     1     0         0        0         1        1   \n",
      "81      0         0     1     0         0        0         0        0   \n",
      "82      0         0     1     0         0        1         0        1   \n",
      "83      0         1     1     0         1        0         0        0   \n",
      "84      1         0     0     1         0        0         0        1   \n",
      "85      0         0     1     0         0        1         1        0   \n",
      "86      0         0     1     0         0        1         1        1   \n",
      "87      0         1     1     0         1        1         0        0   \n",
      "88      0         0     1     0         0        0         0        0   \n",
      "89      0         0     1     0         0        1         0        1   \n",
      "90      0         0     1     0         0        0         0        0   \n",
      "91      0         0     1     0         0        0         1        1   \n",
      "92      0         0     1     0         0        1         1        1   \n",
      "93      1         0     0     1         1        0         0        1   \n",
      "94      1         0     0     1         0        0         0        1   \n",
      "95      0         1     1     0         1        0         1        0   \n",
      "96      1         0     0     1         0        0         0        1   \n",
      "97      1         0     1     0         1        0         0        0   \n",
      "98      1         0     0     1         0        0         1        1   \n",
      "99      0         0     1     0         0        0         0        0   \n",
      "100     0         1     1     0         1        0         0        0   \n",
      "\n",
      "     backbone  breathes  venomous  fins  legs  tail  domestic  catsize  \n",
      "0           1         1         0     0     4     0         0        1  \n",
      "1           1         1         0     0     4     1         0        1  \n",
      "2           1         0         0     1     0     1         0        0  \n",
      "3           1         1         0     0     4     0         0        1  \n",
      "4           1         1         0     0     4     1         0        1  \n",
      "5           1         1         0     0     4     1         0        1  \n",
      "6           1         1         0     0     4     1         1        1  \n",
      "7           1         0         0     1     0     1         1        0  \n",
      "8           1         0         0     1     0     1         0        0  \n",
      "9           1         1         0     0     4     0         1        0  \n",
      "10          1         1         0     0     4     1         0        1  \n",
      "11          1         1         0     0     2     1         1        0  \n",
      "12          1         0         0     1     0     1         0        0  \n",
      "13          0         0         0     0     0     0         0        0  \n",
      "14          0         0         0     0     4     0         0        0  \n",
      "15          0         0         0     0     6     0         0        0  \n",
      "16          1         1         0     0     2     1         0        0  \n",
      "17          1         1         0     0     4     1         0        1  \n",
      "18          1         0         0     1     0     1         0        1  \n",
      "19          1         1         0     1     0     1         0        1  \n",
      "20          1         1         0     0     2     1         1        0  \n",
      "21          1         1         0     0     2     1         0        0  \n",
      "22          1         1         0     0     4     1         0        1  \n",
      "23          1         1         0     0     2     1         0        1  \n",
      "24          0         1         0     0     6     0         0        0  \n",
      "25          1         1         0     0     4     0         0        0  \n",
      "26          1         1         1     0     4     0         0        0  \n",
      "27          1         1         0     0     2     1         0        0  \n",
      "28          1         1         0     0     4     1         0        1  \n",
      "29          1         1         0     0     2     0         1        1  \n",
      "..        ...       ...       ...   ...   ...   ...       ...      ...  \n",
      "71          1         1         0     0     2     1         0        1  \n",
      "72          0         1         1     0     8     1         0        0  \n",
      "73          1         0         0     1     0     1         0        0  \n",
      "74          1         1         0     1     0     0         0        1  \n",
      "75          1         1         0     1     2     1         0        1  \n",
      "76          1         0         1     0     0     1         0        0  \n",
      "77          0         0         1     0     0     0         0        0  \n",
      "78          1         1         0     0     2     1         0        0  \n",
      "79          1         1         0     0     2     1         0        0  \n",
      "80          1         1         0     0     0     1         0        0  \n",
      "81          0         1         0     0     0     0         0        0  \n",
      "82          1         0         0     1     0     1         0        0  \n",
      "83          1         1         0     0     2     1         0        0  \n",
      "84          1         1         0     0     2     1         0        0  \n",
      "85          0         0         0     0     5     0         0        0  \n",
      "86          1         0         1     1     0     1         0        1  \n",
      "87          1         1         0     0     2     1         0        1  \n",
      "88          0         1         0     0     6     0         0        0  \n",
      "89          1         1         0     0     4     0         0        0  \n",
      "90          1         1         0     0     4     1         0        1  \n",
      "91          1         1         0     0     4     1         0        0  \n",
      "92          1         0         0     1     0     1         0        1  \n",
      "93          1         1         0     0     2     1         0        0  \n",
      "94          1         1         0     0     4     1         0        0  \n",
      "95          1         1         0     0     2     1         0        1  \n",
      "96          1         1         0     0     2     1         0        1  \n",
      "97          0         1         1     0     6     0         0        0  \n",
      "98          1         1         0     0     4     1         0        1  \n",
      "99          0         1         0     0     0     0         0        0  \n",
      "100         1         1         0     0     2     1         0        0  \n",
      "\n",
      "[101 rows x 16 columns]\n"
     ]
    }
   ],
   "source": [
    "class_type_output = df[\"class_type\"]\n",
    "df = df.drop(\"class_type\", axis=1).drop(\"animal_name\",axis=1)\n",
    "print(df)"
   ]
  },
  {
   "cell_type": "code",
   "execution_count": 4,
   "metadata": {},
   "outputs": [],
   "source": [
    "from sklearn.model_selection import train_test_split\n",
    "x_train, x_test, y_train, y_test = train_test_split(df, class_type_output, test_size=0.20)"
   ]
  },
  {
   "cell_type": "code",
   "execution_count": 5,
   "metadata": {},
   "outputs": [
    {
     "data": {
      "text/plain": [
       "DecisionTreeClassifier()"
      ]
     },
     "execution_count": 5,
     "metadata": {},
     "output_type": "execute_result"
    }
   ],
   "source": [
    "from sklearn.tree import DecisionTreeClassifier\n",
    "classifier = DecisionTreeClassifier()\n",
    "classifier.fit(x_train, y_train)"
   ]
  },
  {
   "cell_type": "code",
   "execution_count": 6,
   "metadata": {},
   "outputs": [
    {
     "data": {
      "text/plain": [
       "array([7, 1, 4, 7, 1, 1, 1, 7, 1, 1, 1, 7, 1, 1, 1, 4, 4, 1, 1, 6, 2])"
      ]
     },
     "execution_count": 6,
     "metadata": {},
     "output_type": "execute_result"
    }
   ],
   "source": [
    "y_prediction = classifier.predict(x_test)\n",
    "y_prediction"
   ]
  },
  {
   "cell_type": "code",
   "execution_count": 7,
   "metadata": {},
   "outputs": [
    {
     "data": {
      "text/plain": [
       "array([[12,  0,  0,  0,  0],\n",
       "       [ 0,  1,  0,  0,  0],\n",
       "       [ 0,  0,  3,  0,  0],\n",
       "       [ 0,  0,  0,  0,  0],\n",
       "       [ 0,  0,  0,  1,  4]])"
      ]
     },
     "execution_count": 7,
     "metadata": {},
     "output_type": "execute_result"
    }
   ],
   "source": [
    "from sklearn.metrics import classification_report, confusion_matrix, accuracy_score\n",
    "confusion_matrix(y_test,y_prediction)"
   ]
  },
  {
   "cell_type": "code",
   "execution_count": 8,
   "metadata": {},
   "outputs": [
    {
     "name": "stdout",
     "output_type": "stream",
     "text": [
      "              precision    recall  f1-score   support\n",
      "\n",
      "           1       1.00      1.00      1.00        12\n",
      "           2       1.00      1.00      1.00         1\n",
      "           4       1.00      1.00      1.00         3\n",
      "           6       0.00      0.00      0.00         0\n",
      "           7       1.00      0.80      0.89         5\n",
      "\n",
      "    accuracy                           0.95        21\n",
      "   macro avg       0.80      0.76      0.78        21\n",
      "weighted avg       1.00      0.95      0.97        21\n",
      "\n"
     ]
    },
    {
     "name": "stderr",
     "output_type": "stream",
     "text": [
      "/home/root1/anaconda3/lib/python3.7/site-packages/sklearn/metrics/_classification.py:1308: UndefinedMetricWarning: Recall and F-score are ill-defined and being set to 0.0 in labels with no true samples. Use `zero_division` parameter to control this behavior.\n",
      "  _warn_prf(average, modifier, msg_start, len(result))\n",
      "/home/root1/anaconda3/lib/python3.7/site-packages/sklearn/metrics/_classification.py:1308: UndefinedMetricWarning: Recall and F-score are ill-defined and being set to 0.0 in labels with no true samples. Use `zero_division` parameter to control this behavior.\n",
      "  _warn_prf(average, modifier, msg_start, len(result))\n",
      "/home/root1/anaconda3/lib/python3.7/site-packages/sklearn/metrics/_classification.py:1308: UndefinedMetricWarning: Recall and F-score are ill-defined and being set to 0.0 in labels with no true samples. Use `zero_division` parameter to control this behavior.\n",
      "  _warn_prf(average, modifier, msg_start, len(result))\n"
     ]
    }
   ],
   "source": [
    "print(classification_report(y_test, y_prediction))"
   ]
  },
  {
   "cell_type": "code",
   "execution_count": 9,
   "metadata": {},
   "outputs": [
    {
     "name": "stdout",
     "output_type": "stream",
     "text": [
      "Predicted class = 7 \tActual class = 7\n",
      "Predicted class = 1 \tActual class = 1\n",
      "Predicted class = 4 \tActual class = 4\n",
      "Predicted class = 7 \tActual class = 7\n",
      "Predicted class = 1 \tActual class = 1\n",
      "Predicted class = 1 \tActual class = 1\n",
      "Predicted class = 1 \tActual class = 1\n",
      "Predicted class = 7 \tActual class = 7\n",
      "Predicted class = 1 \tActual class = 1\n",
      "Predicted class = 1 \tActual class = 1\n",
      "Predicted class = 1 \tActual class = 1\n",
      "Predicted class = 7 \tActual class = 7\n",
      "Predicted class = 1 \tActual class = 1\n",
      "Predicted class = 1 \tActual class = 1\n",
      "Predicted class = 1 \tActual class = 1\n",
      "Predicted class = 4 \tActual class = 4\n",
      "Predicted class = 4 \tActual class = 4\n",
      "Predicted class = 1 \tActual class = 1\n",
      "Predicted class = 1 \tActual class = 1\n",
      "Predicted class = 6 \tActual class = 7\n",
      "Predicted class = 2 \tActual class = 2\n"
     ]
    }
   ],
   "source": [
    "predicted_class = list(y_prediction)\n",
    "actual_class = list(y_test)\n",
    "for i in range(len(predicted_class)):\n",
    "    print(\"Predicted class =\", predicted_class[i],\"\\tActual class =\",actual_class[i])"
   ]
  },
  {
   "cell_type": "code",
   "execution_count": null,
   "metadata": {},
   "outputs": [],
   "source": []
  }
 ],
 "metadata": {
  "kernelspec": {
   "display_name": "Python 3",
   "language": "python",
   "name": "python3"
  },
  "language_info": {
   "codemirror_mode": {
    "name": "ipython",
    "version": 3
   },
   "file_extension": ".py",
   "mimetype": "text/x-python",
   "name": "python",
   "nbconvert_exporter": "python",
   "pygments_lexer": "ipython3",
   "version": "3.7.3"
  }
 },
 "nbformat": 4,
 "nbformat_minor": 2
}
